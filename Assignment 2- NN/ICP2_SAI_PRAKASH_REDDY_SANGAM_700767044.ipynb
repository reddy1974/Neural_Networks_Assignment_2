{
 "cells": [
  {
   "cell_type": "code",
   "execution_count": 1,
   "id": "a292eb23",
   "metadata": {},
   "outputs": [
    {
     "name": "stdout",
     "output_type": "stream",
     "text": [
      "hello world\n"
     ]
    }
   ],
   "source": [
    "print(\"hello world\")"
   ]
  },
  {
   "cell_type": "code",
   "execution_count": 4,
   "id": "6875df6b",
   "metadata": {
    "scrolled": true
   },
   "outputs": [
    {
     "name": "stdout",
     "output_type": "stream",
     "text": [
      "sangam\n",
      "reddy\n",
      "sangam reddy\n"
     ]
    }
   ],
   "source": [
    "\"'Write a program that takes two strings from the user: first_name, last_name. Pass these variables to fullname function that should return the (full name).\n",
    "'\"\n",
    "\n",
    "def fullname(First_name,Last_name):\n",
    "    fullname=First_name+\" \"+Last_name\n",
    "    print(fullname)\n",
    "First_name=input(\"enter you Firstname: \")\n",
    "Last_name=input(\"enter Last_name: \")\n",
    "fullname(First_name,Last_name)"
   ]
  },
  {
   "cell_type": "code",
   "execution_count": 30,
   "id": "8c3edad9",
   "metadata": {},
   "outputs": [
    {
     "name": "stdout",
     "output_type": "stream",
     "text": [
      "Enter a string: Good evening\n",
      "Go vnn\n"
     ]
    }
   ],
   "source": [
    "\"'Write function named “string_alternative” that returns every other char in the full_name string. '\"\n",
    "\"'You need to create a function named “string_alternative” for this program and call it from main function.'\"\n",
    "def string_alternative(input_string):\n",
    "    alt = \"\"\n",
    "    for i in range(0, len(input_string)):\n",
    "        if i % 2 == 0:\n",
    "            alt = alt + input_string[i]\n",
    "    return alt\n",
    "\n",
    "def main():\n",
    "    string_A = input(\"Enter a string: \")\n",
    "    result = string_alternative(string_A)\n",
    "    print(result)\n",
    "\n",
    "if __name__ == \"__main__\":\n",
    "    main()\n",
    "\n",
    "\n"
   ]
  },
  {
   "cell_type": "code",
   "execution_count": 11,
   "id": "7e9075e4",
   "metadata": {},
   "outputs": [
    {
     "name": "stdout",
     "output_type": "stream",
     "text": [
      "Python: 1\n",
      "Course: 2\n",
      "Deep: 1\n",
      "Learning: 1\n",
      "\n"
     ]
    }
   ],
   "source": [
    "\"'Write a python program to find the wordcount in a file (input.txt) for each line and then print the output.o Finally store the output in output.txt file. '\"\n",
    "\n",
    "input_file_path = 'input_file.txt'\n",
    "output_file_path = 'output_file.txt'\n",
    "\n",
    "with open(input_file_path, 'r') as ipf:\n",
    "    line = ipf.read()\n",
    "    words = line.split()\n",
    "    word_count = {}\n",
    "\n",
    "    for word in words:\n",
    "        word_count[word] = word_count.get(word, 0) + 1\n",
    "\n",
    "with open(output_file_path, 'w') as opf:\n",
    "    for word, count in word_count.items():\n",
    "        opf.write(f\"{word}: {count}\\n\")\n",
    "\n",
    "with open(output_file_path, 'r') as opf:\n",
    "    print(opf.read())\n"
   ]
  },
  {
   "cell_type": "code",
   "execution_count": 26,
   "id": "cb5c5125",
   "metadata": {},
   "outputs": [
    {
     "name": "stdout",
     "output_type": "stream",
     "text": [
      "7\n",
      "777\n",
      "889.0\n",
      "0\n",
      "[7.0, 777.0, 889.0]\n"
     ]
    }
   ],
   "source": [
    "\"'Write a program, which reads heights (inches.) of customers into a list and convert these heights to centimeters in a separate list using: 1) Nested Interactive loop. 2) List comprehensions\"''\n",
    "heights_inch=[]\n",
    "while True:\n",
    "    x=float(input())\n",
    "    if(x<=0):\n",
    "        break\n",
    "    else:\n",
    "        heights_inch.append(x)\n",
    "print(heights_inch)\n",
    "\n",
    "\n",
    "\n"
   ]
  },
  {
   "cell_type": "code",
   "execution_count": 27,
   "id": "3bcb2713",
   "metadata": {},
   "outputs": [
    {
     "name": "stdout",
     "output_type": "stream",
     "text": [
      "[17.78, 1973.58, 2258.06]\n"
     ]
    }
   ],
   "source": [
    "heights_centimeters = [height_inch * 2.54 for height_inch in heights_inch]\n",
    "print(list(heights_centimeters))"
   ]
  }
 ],
 "metadata": {
  "kernelspec": {
   "display_name": "Python 3 (ipykernel)",
   "language": "python",
   "name": "python3"
  },
  "language_info": {
   "codemirror_mode": {
    "name": "ipython",
    "version": 3
   },
   "file_extension": ".py",
   "mimetype": "text/x-python",
   "name": "python",
   "nbconvert_exporter": "python",
   "pygments_lexer": "ipython3",
   "version": "3.11.5"
  }
 },
 "nbformat": 4,
 "nbformat_minor": 5
}
